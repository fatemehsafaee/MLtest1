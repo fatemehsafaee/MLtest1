{
  "nbformat": 4,
  "nbformat_minor": 0,
  "metadata": {
    "colab": {
      "provenance": [],
      "authorship_tag": "ABX9TyMGo/KdEzcnIr80jCTGAI/g",
      "include_colab_link": true
    },
    "kernelspec": {
      "name": "python3",
      "display_name": "Python 3"
    },
    "language_info": {
      "name": "python"
    }
  },
  "cells": [
    {
      "cell_type": "markdown",
      "metadata": {
        "id": "view-in-github",
        "colab_type": "text"
      },
      "source": [
        "<a href=\"https://colab.research.google.com/github/fatemehsafaee/MLtest1/blob/main/chap1/pyComment.ipynb\" target=\"_parent\"><img src=\"https://colab.research.google.com/assets/colab-badge.svg\" alt=\"Open In Colab\"/></a>"
      ]
    },
    {
      "cell_type": "code",
      "execution_count": 1,
      "metadata": {
        "colab": {
          "base_uri": "https://localhost:8080/"
        },
        "id": "0OWiMHuLO_qt",
        "outputId": "f92e5733-7257-41b8-d5eb-5109b3aae073"
      },
      "outputs": [
        {
          "output_type": "stream",
          "name": "stdout",
          "text": [
            "Value of x: 5\n",
            "Value of y: Hello\n",
            "Values of a, b, c: 1 two 3.0\n"
          ]
        }
      ],
      "source": [
        "# Single-line comment explaining the purpose of the code\n",
        "\n",
        "\"\"\"\n",
        "This is a\n",
        "multi-line\n",
        "comment\n",
        "explaining more details about the code.\n",
        "\"\"\"\n",
        "\n",
        "# Variable assignment\n",
        "x = 5\n",
        "y = \"Hello\"\n",
        "\n",
        "# Multiple variable assignment\n",
        "a, b, c = 1, \"two\", 3.0\n",
        "\n",
        "# Printing variables\n",
        "print(\"Value of x:\", x)\n",
        "print(\"Value of y:\", y)\n",
        "print(\"Values of a, b, c:\", a, b, c)"
      ]
    },
    {
      "cell_type": "code",
      "source": [],
      "metadata": {
        "id": "C2MWx903PW6Z"
      },
      "execution_count": null,
      "outputs": []
    }
  ]
}